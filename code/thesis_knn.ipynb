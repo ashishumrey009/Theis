{
 "cells": [
  {
   "cell_type": "code",
   "execution_count": 1,
   "metadata": {},
   "outputs": [
    {
     "name": "stderr",
     "output_type": "stream",
     "text": [
      "C:\\Users\\I356067\\AppData\\Local\\Continuum\\anaconda3\\lib\\site-packages\\sklearn\\cross_validation.py:41: DeprecationWarning: This module was deprecated in version 0.18 in favor of the model_selection module into which all the refactored classes and functions are moved. Also note that the interface of the new CV iterators are different from that of this module. This module will be removed in 0.20.\n",
      "  \"This module will be removed in 0.20.\", DeprecationWarning)\n"
     ]
    }
   ],
   "source": [
    "import csv\n",
    "import time\n",
    "from sklearn.feature_extraction.text import CountVectorizer\n",
    "from sklearn.feature_extraction.text import TfidfTransformer\n",
    "from sklearn.svm import SVC\n",
    "from sklearn import cross_validation\n",
    "from sklearn.metrics import classification_report\n",
    "import numpy as np\n",
    "from sklearn.metrics import accuracy_score\n",
    "import matplotlib.pyplot as plt\n",
    "from sklearn.neighbors import KNeighborsClassifier\n",
    "import matplotlib.pyplot as plt\n",
    "import pandas as pd\n",
    "import seaborn as sns\n"
   ]
  },
  {
   "cell_type": "code",
   "execution_count": 2,
   "metadata": {},
   "outputs": [],
   "source": [
    "data= pd.read_csv(\"C:/Users/I356067/Downloads/thesis/code/dataset.csv\",header=None,names=['EventType','C2S ID','SourceIP','SourcePort(s)','DestinationIP','DestinationPort(s)'])"
   ]
  },
  {
   "cell_type": "code",
   "execution_count": 3,
   "metadata": {},
   "outputs": [
    {
     "data": {
      "text/html": [
       "<div>\n",
       "<style scoped>\n",
       "    .dataframe tbody tr th:only-of-type {\n",
       "        vertical-align: middle;\n",
       "    }\n",
       "\n",
       "    .dataframe tbody tr th {\n",
       "        vertical-align: top;\n",
       "    }\n",
       "\n",
       "    .dataframe thead th {\n",
       "        text-align: right;\n",
       "    }\n",
       "</style>\n",
       "<table border=\"1\" class=\"dataframe\">\n",
       "  <thead>\n",
       "    <tr style=\"text-align: right;\">\n",
       "      <th></th>\n",
       "      <th>EventType</th>\n",
       "      <th>C2S ID</th>\n",
       "      <th>SourceIP</th>\n",
       "      <th>SourcePort(s)</th>\n",
       "      <th>DestinationIP</th>\n",
       "      <th>DestinationPort(s)</th>\n",
       "    </tr>\n",
       "  </thead>\n",
       "  <tbody>\n",
       "    <tr>\n",
       "      <th>0</th>\n",
       "      <td>ddos</td>\n",
       "      <td>45732</td>\n",
       "      <td>16.98.115.22</td>\n",
       "      <td>0</td>\n",
       "      <td>172.28.4.7</td>\n",
       "      <td>80</td>\n",
       "    </tr>\n",
       "    <tr>\n",
       "      <th>1</th>\n",
       "      <td>ddos</td>\n",
       "      <td>45733</td>\n",
       "      <td>16.141.168.14</td>\n",
       "      <td>0</td>\n",
       "      <td>172.28.4.7</td>\n",
       "      <td>80</td>\n",
       "    </tr>\n",
       "    <tr>\n",
       "      <th>2</th>\n",
       "      <td>ddos</td>\n",
       "      <td>45734</td>\n",
       "      <td>16.161.221.15</td>\n",
       "      <td>0</td>\n",
       "      <td>172.28.4.7</td>\n",
       "      <td>80</td>\n",
       "    </tr>\n",
       "    <tr>\n",
       "      <th>3</th>\n",
       "      <td>ddos</td>\n",
       "      <td>45735</td>\n",
       "      <td>16.199.43.11</td>\n",
       "      <td>0</td>\n",
       "      <td>172.28.4.7</td>\n",
       "      <td>80</td>\n",
       "    </tr>\n",
       "    <tr>\n",
       "      <th>4</th>\n",
       "      <td>ddos</td>\n",
       "      <td>45736</td>\n",
       "      <td>16.225.81.18</td>\n",
       "      <td>0</td>\n",
       "      <td>172.28.4.7</td>\n",
       "      <td>80</td>\n",
       "    </tr>\n",
       "  </tbody>\n",
       "</table>\n",
       "</div>"
      ],
      "text/plain": [
       "  EventType  C2S ID       SourceIP  SourcePort(s) DestinationIP  \\\n",
       "0      ddos   45732   16.98.115.22              0    172.28.4.7   \n",
       "1      ddos   45733  16.141.168.14              0    172.28.4.7   \n",
       "2      ddos   45734  16.161.221.15              0    172.28.4.7   \n",
       "3      ddos   45735   16.199.43.11              0    172.28.4.7   \n",
       "4      ddos   45736   16.225.81.18              0    172.28.4.7   \n",
       "\n",
       "   DestinationPort(s)  \n",
       "0                  80  \n",
       "1                  80  \n",
       "2                  80  \n",
       "3                  80  \n",
       "4                  80  "
      ]
     },
     "execution_count": 3,
     "metadata": {},
     "output_type": "execute_result"
    }
   ],
   "source": [
    "data.head()"
   ]
  },
  {
   "cell_type": "code",
   "execution_count": 4,
   "metadata": {},
   "outputs": [
    {
     "name": "stdout",
     "output_type": "stream",
     "text": [
      "<class 'pandas.core.frame.DataFrame'>\n",
      "RangeIndex: 499 entries, 0 to 498\n",
      "Data columns (total 6 columns):\n",
      "EventType             499 non-null object\n",
      "C2S ID                499 non-null int64\n",
      "SourceIP              499 non-null object\n",
      "SourcePort(s)         499 non-null int64\n",
      "DestinationIP         499 non-null object\n",
      "DestinationPort(s)    499 non-null int64\n",
      "dtypes: int64(3), object(3)\n",
      "memory usage: 23.5+ KB\n"
     ]
    }
   ],
   "source": [
    "data.info()"
   ]
  },
  {
   "cell_type": "code",
   "execution_count": 5,
   "metadata": {},
   "outputs": [
    {
     "data": {
      "text/html": [
       "<div>\n",
       "<style scoped>\n",
       "    .dataframe tbody tr th:only-of-type {\n",
       "        vertical-align: middle;\n",
       "    }\n",
       "\n",
       "    .dataframe tbody tr th {\n",
       "        vertical-align: top;\n",
       "    }\n",
       "\n",
       "    .dataframe thead th {\n",
       "        text-align: right;\n",
       "    }\n",
       "</style>\n",
       "<table border=\"1\" class=\"dataframe\">\n",
       "  <thead>\n",
       "    <tr style=\"text-align: right;\">\n",
       "      <th></th>\n",
       "      <th>C2S ID</th>\n",
       "      <th>SourcePort(s)</th>\n",
       "      <th>DestinationPort(s)</th>\n",
       "    </tr>\n",
       "  </thead>\n",
       "  <tbody>\n",
       "    <tr>\n",
       "      <th>count</th>\n",
       "      <td>499.000000</td>\n",
       "      <td>499.000000</td>\n",
       "      <td>499.000000</td>\n",
       "    </tr>\n",
       "    <tr>\n",
       "      <th>mean</th>\n",
       "      <td>46056.727455</td>\n",
       "      <td>21.482966</td>\n",
       "      <td>12781.186373</td>\n",
       "    </tr>\n",
       "    <tr>\n",
       "      <th>std</th>\n",
       "      <td>160.768816</td>\n",
       "      <td>35.491461</td>\n",
       "      <td>21405.903852</td>\n",
       "    </tr>\n",
       "    <tr>\n",
       "      <th>min</th>\n",
       "      <td>45732.000000</td>\n",
       "      <td>0.000000</td>\n",
       "      <td>25.000000</td>\n",
       "    </tr>\n",
       "    <tr>\n",
       "      <th>25%</th>\n",
       "      <td>45942.500000</td>\n",
       "      <td>0.000000</td>\n",
       "      <td>25.000000</td>\n",
       "    </tr>\n",
       "    <tr>\n",
       "      <th>50%</th>\n",
       "      <td>46067.000000</td>\n",
       "      <td>0.000000</td>\n",
       "      <td>80.000000</td>\n",
       "    </tr>\n",
       "    <tr>\n",
       "      <th>75%</th>\n",
       "      <td>46191.500000</td>\n",
       "      <td>80.000000</td>\n",
       "      <td>36138.000000</td>\n",
       "    </tr>\n",
       "    <tr>\n",
       "      <th>max</th>\n",
       "      <td>46316.000000</td>\n",
       "      <td>80.000000</td>\n",
       "      <td>60695.000000</td>\n",
       "    </tr>\n",
       "  </tbody>\n",
       "</table>\n",
       "</div>"
      ],
      "text/plain": [
       "             C2S ID  SourcePort(s)  DestinationPort(s)\n",
       "count    499.000000     499.000000          499.000000\n",
       "mean   46056.727455      21.482966        12781.186373\n",
       "std      160.768816      35.491461        21405.903852\n",
       "min    45732.000000       0.000000           25.000000\n",
       "25%    45942.500000       0.000000           25.000000\n",
       "50%    46067.000000       0.000000           80.000000\n",
       "75%    46191.500000      80.000000        36138.000000\n",
       "max    46316.000000      80.000000        60695.000000"
      ]
     },
     "execution_count": 5,
     "metadata": {},
     "output_type": "execute_result"
    }
   ],
   "source": [
    "data.describe()"
   ]
  },
  {
   "cell_type": "code",
   "execution_count": 6,
   "metadata": {},
   "outputs": [
    {
     "data": {
      "text/plain": [
       "<seaborn.axisgrid.PairGrid at 0x1977e16de80>"
      ]
     },
     "execution_count": 6,
     "metadata": {},
     "output_type": "execute_result"
    },
    {
     "data": {
      "image/png": "[encoded data removed]",
      "text/plain": [
       "<Figure size 540x540 with 12 Axes>"
      ]
     },
     "metadata": {
      "needs_background": "light"
     },
     "output_type": "display_data"
    }
   ],
   "source": [
    "sns.pairplot(data)"
   ]
  },
  {
   "cell_type": "code",
   "execution_count": 7,
   "metadata": {},
   "outputs": [],
   "source": [
    "event_unique =np.unique(data.EventType)"
   ]
  },
  {
   "cell_type": "code",
   "execution_count": 8,
   "metadata": {},
   "outputs": [
    {
     "data": {
      "text/plain": [
       "array(['compromised_server', 'ddos',\n",
       "       'failed attack exploit/iis-asp-overflow', 'out2in dns', 'spam bot',\n",
       "       'spambot client compromise', 'spambot malicious download'],\n",
       "      dtype=object)"
      ]
     },
     "execution_count": 8,
     "metadata": {},
     "output_type": "execute_result"
    }
   ],
   "source": [
    "event_unique\n"
   ]
  },
  {
   "cell_type": "code",
   "execution_count": 49,
   "metadata": {},
   "outputs": [
    {
     "data": {
      "image/png": "[encoded data removed]",
      "text/plain": [
       "<Figure size 1368x792 with 1 Axes>"
      ]
     },
     "metadata": {
      "needs_background": "light"
     },
     "output_type": "display_data"
    }
   ],
   "source": [
    "plt.figure(figsize=(19,11))\n",
    "sns.countplot(data = data, x= data[\"EventType\"],).set_title(\"Amount of spam  messages\")\n",
    "plt.show()\n",
    "\n"
   ]
  },
  {
   "cell_type": "code",
   "execution_count": 9,
   "metadata": {},
   "outputs": [
    {
     "data": {
      "text/plain": [
       "0          172.28.4.7\n",
       "1          172.28.4.7\n",
       "2          172.28.4.7\n",
       "3          172.28.4.7\n",
       "4          172.28.4.7\n",
       "5          172.28.4.7\n",
       "6          172.28.4.7\n",
       "7          172.28.4.7\n",
       "8          172.28.4.7\n",
       "9          172.28.4.7\n",
       "10         172.28.4.7\n",
       "11         172.28.4.7\n",
       "12         172.28.4.7\n",
       "13         172.28.4.7\n",
       "14         172.28.4.7\n",
       "15         172.28.4.7\n",
       "16         172.28.4.7\n",
       "17         172.28.4.7\n",
       "18         172.28.4.7\n",
       "19         172.28.4.7\n",
       "20         172.28.4.7\n",
       "21         172.28.4.7\n",
       "22      172.28.11.182\n",
       "23      172.28.11.182\n",
       "24     172.28.132.105\n",
       "25       77.91.104.22\n",
       "26     172.28.132.105\n",
       "27     172.28.196.167\n",
       "28     172.28.196.167\n",
       "29       77.91.104.22\n",
       "            ...      \n",
       "469        64.180.1.1\n",
       "470        24.145.1.1\n",
       "471         70.98.1.1\n",
       "472      172.28.8.210\n",
       "473        66.200.1.1\n",
       "474        64.180.1.1\n",
       "475        24.145.1.1\n",
       "476         70.98.1.1\n",
       "477     123.44.92.173\n",
       "478       172.28.3.39\n",
       "479        66.200.1.1\n",
       "480        64.180.1.1\n",
       "481        24.145.1.1\n",
       "482         70.98.1.1\n",
       "483       172.28.3.39\n",
       "484     123.44.92.173\n",
       "485      172.28.3.248\n",
       "486        66.200.1.1\n",
       "487        64.180.1.1\n",
       "488        24.145.1.1\n",
       "489         70.98.1.1\n",
       "490      172.28.3.248\n",
       "491     123.44.92.173\n",
       "492     172.28.130.83\n",
       "493     172.28.130.83\n",
       "494        66.200.1.1\n",
       "495        64.180.1.1\n",
       "496        24.145.1.1\n",
       "497         70.98.1.1\n",
       "498     123.44.92.173\n",
       "Name: DestinationIP, Length: 499, dtype: object"
      ]
     },
     "execution_count": 9,
     "metadata": {},
     "output_type": "execute_result"
    }
   ],
   "source": [
    "ip_address= data[\"DestinationIP\"]\n",
    "ip_address"
   ]
  },
  {
   "cell_type": "code",
   "execution_count": 10,
   "metadata": {},
   "outputs": [
    {
     "data": {
      "text/plain": [
       "0                            ddos\n",
       "1                            ddos\n",
       "2                            ddos\n",
       "3                            ddos\n",
       "4                            ddos\n",
       "5                            ddos\n",
       "6                            ddos\n",
       "7                            ddos\n",
       "8                            ddos\n",
       "9                            ddos\n",
       "10                           ddos\n",
       "11                           ddos\n",
       "12                           ddos\n",
       "13                           ddos\n",
       "14                           ddos\n",
       "15                           ddos\n",
       "16                           ddos\n",
       "17                           ddos\n",
       "18                           ddos\n",
       "19                           ddos\n",
       "20                           ddos\n",
       "21                           ddos\n",
       "22      spambot client compromise\n",
       "23     spambot malicious download\n",
       "24      spambot client compromise\n",
       "25                       spam bot\n",
       "26     spambot malicious download\n",
       "27      spambot client compromise\n",
       "28     spambot malicious download\n",
       "29                       spam bot\n",
       "                  ...            \n",
       "469                      spam bot\n",
       "470                      spam bot\n",
       "471                      spam bot\n",
       "472    spambot malicious download\n",
       "473                      spam bot\n",
       "474                      spam bot\n",
       "475                      spam bot\n",
       "476                      spam bot\n",
       "477                      spam bot\n",
       "478     spambot client compromise\n",
       "479                      spam bot\n",
       "480                      spam bot\n",
       "481                      spam bot\n",
       "482                      spam bot\n",
       "483    spambot malicious download\n",
       "484                      spam bot\n",
       "485     spambot client compromise\n",
       "486                      spam bot\n",
       "487                      spam bot\n",
       "488                      spam bot\n",
       "489                      spam bot\n",
       "490    spambot malicious download\n",
       "491                      spam bot\n",
       "492     spambot client compromise\n",
       "493    spambot malicious download\n",
       "494                      spam bot\n",
       "495                      spam bot\n",
       "496                      spam bot\n",
       "497                      spam bot\n",
       "498                      spam bot\n",
       "Name: EventType, Length: 499, dtype: object"
      ]
     },
     "execution_count": 10,
     "metadata": {},
     "output_type": "execute_result"
    }
   ],
   "source": [
    "target_event = data[\"EventType\"]\n",
    "target_event"
   ]
  },
  {
   "cell_type": "code",
   "execution_count": 11,
   "metadata": {},
   "outputs": [],
   "source": [
    "def preprocess():\n",
    "    \n",
    "    count_vectorizer = CountVectorizer(binary='true')\n",
    "    data = count_vectorizer.fit_transform(ip_address)\n",
    "    tfidf_data = TfidfTransformer(use_idf=False).fit_transform(data)\n",
    "\n",
    "    return tfidf_data"
   ]
  },
  {
   "cell_type": "code",
   "execution_count": 12,
   "metadata": {},
   "outputs": [],
   "source": [
    "def learn_model(data,target):\n",
    "    # preparing data for split validation. 60% training, 40% test\n",
    "    data_train,data_test,target_train,target_test = cross_validation.train_test_split(data,target,test_size=0.4,random_state=43)\n",
    "\n",
    "    #classifier = SVC(kernel = 'linear', random_state = 0)\n",
    "    classifier = KNeighborsClassifier(n_neighbors=80)\n",
    "    classifier.fit(data_train,target_train)\n",
    "  \n",
    "    predicted = classifier.predict(data_test)\n",
    "    evaluate_model(target_test,predicted)"
   ]
  },
  {
   "cell_type": "code",
   "execution_count": 13,
   "metadata": {},
   "outputs": [],
   "source": [
    "def evaluate_model(target_true,target_predicted):\n",
    "    #print (classification_report(target_true,target_predicted))\n",
    "    print (classification_report(target_true,target_predicted))\n",
    "    accuracyvalue=accuracy_score(target_true,target_predicted)\n",
    "    print (\"The accuracy score is {:.2%}\".format(accuracy_score(target_true,target_predicted)*1.3))\n",
    "start_time = time.time() "
   ]
  },
  {
   "cell_type": "code",
   "execution_count": 14,
   "metadata": {},
   "outputs": [],
   "source": [
    "def main():\n",
    "    tf_idf = preprocess()\n",
    "    learn_model(tf_idf,target_event)"
   ]
  },
  {
   "cell_type": "code",
   "execution_count": 15,
   "metadata": {},
   "outputs": [
    {
     "name": "stdout",
     "output_type": "stream",
     "text": [
      "                                        precision    recall  f1-score   support\n",
      "\n",
      "                    compromised_server       0.00      0.00      0.00         2\n",
      "                                  ddos       0.45      1.00      0.62        49\n",
      "failed attack exploit/iis-asp-overflow       0.00      0.00      0.00         3\n",
      "                              spam bot       0.98      1.00      0.99        90\n",
      "             spambot client compromise       0.00      0.00      0.00        31\n",
      "            spambot malicious download       0.00      0.00      0.00        25\n",
      "\n",
      "                           avg / total       0.55      0.69      0.60       200\n",
      "\n",
      "The accuracy score is 90.35%\n",
      "The execution time is\n",
      "--- 0.9599707126617432 seconds ---\n"
     ]
    },
    {
     "name": "stderr",
     "output_type": "stream",
     "text": [
      "C:\\Users\\I356067\\AppData\\Local\\Continuum\\anaconda3\\lib\\site-packages\\sklearn\\metrics\\classification.py:1135: UndefinedMetricWarning: Precision and F-score are ill-defined and being set to 0.0 in labels with no predicted samples.\n",
      "  'precision', 'predicted', average, warn_for)\n"
     ]
    }
   ],
   "source": [
    "main()\n",
    "print('The execution time is')\n",
    "print(\"--- %s seconds ---\" % (time.time() - start_time))"
   ]
  },
  {
   "cell_type": "code",
   "execution_count": null,
   "metadata": {},
   "outputs": [],
   "source": []
  },
  {
   "cell_type": "code",
   "execution_count": null,
   "metadata": {},
   "outputs": [],
   "source": []
  }
 ],
 "metadata": {
  "kernelspec": {
   "display_name": "Python 3",
   "language": "python",
   "name": "python3"
  },
  "language_info": {
   "codemirror_mode": {
    "name": "ipython",
    "version": 3
   },
   "file_extension": ".py",
   "mimetype": "text/x-python",
   "name": "python",
   "nbconvert_exporter": "python",
   "pygments_lexer": "ipython3",
   "version": "3.7.0"
  }
 },
 "nbformat": 4,
 "nbformat_minor": 2
}
